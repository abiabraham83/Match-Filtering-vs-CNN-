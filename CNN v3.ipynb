{
 "cells": [
  {
   "cell_type": "code",
   "execution_count": 1,
   "id": "b7255370-36f9-434a-a01f-78d2298cc235",
   "metadata": {},
   "outputs": [
    {
     "name": "stdout",
     "output_type": "stream",
     "text": [
      "template_bank  test  train  training_labels.csv\n"
     ]
    }
   ],
   "source": [
    "! ls /home/ian.harry/tmp_abi"
   ]
  },
  {
   "cell_type": "code",
   "execution_count": 1,
   "id": "28f65790-e436-42ab-b892-e3efa74eed17",
   "metadata": {},
   "outputs": [
    {
     "name": "stderr",
     "output_type": "stream",
     "text": [
      "2022-05-23 02:39:27.209407: W tensorflow/stream_executor/platform/default/dso_loader.cc:64] Could not load dynamic library 'libcudart.so.11.0'; dlerror: libcudart.so.11.0: cannot open shared object file: No such file or directory\n",
      "2022-05-23 02:39:27.209452: I tensorflow/stream_executor/cuda/cudart_stub.cc:29] Ignore above cudart dlerror if you do not have a GPU set up on your machine.\n",
      "/home/abi.abraham/.local/lib/python3.9/site-packages/nnAudio/Spectrogram.py:4: Warning: importing Spectrogram subpackage will be deprecated soon. You should import the feature extractor from the feature subpackage. See actual documentation.\n",
      "  warnings.warn(\n"
     ]
    }
   ],
   "source": [
    "#Import packages\n",
    "\n",
    "import numpy as np\n",
    "import pandas as pd\n",
    "import matplotlib.pyplot as plt\n",
    "import math\n",
    "import seaborn as sns\n",
    "from scipy.stats import sem\n",
    "\n",
    "#Machine learning tool\n",
    "\n",
    "import keras\n",
    "import tensorflow \n",
    "from keras.models import Sequential\n",
    "from tensorflow.keras.utils import Sequence\n",
    "from tensorflow.keras.optimizers import Adam\n",
    "from tensorflow.keras import models, layers\n",
    "from tensorflow.keras.layers import Dense, Dropout, Activation, Input, GlobalAveragePooling2D, Convolution2D, GlobalMaxPooling2D\n",
    "from tensorflow.keras.preprocessing import image\n",
    "\n",
    "from random import shuffle\n",
    "\n",
    "from sklearn.model_selection import train_test_split\n",
    "from sklearn.metrics import confusion_matrix\n",
    "\n",
    "import torch\n",
    "from nnAudio.Spectrogram import CQT1992v2\n",
    "import efficientnet.tfkeras as efn"
   ]
  },
  {
   "cell_type": "code",
   "execution_count": 2,
   "id": "be65f2bf-e162-406d-b8fb-9ce8848fe120",
   "metadata": {},
   "outputs": [],
   "source": [
    "# I am using concepts and certain codes used by Mrigendra Agrwal from Kaggle.\n",
    "#Reference https://www.kaggle.com/code/mrigendraagrawal/tf-g2net-eda-and-starter"
   ]
  },
  {
   "cell_type": "code",
   "execution_count": 3,
   "id": "95a3bb64-2506-4149-8662-78fe85e8d98c",
   "metadata": {},
   "outputs": [],
   "source": [
    "#Read in the training labels csv and assign paths\n",
    "training_labels = pd.read_csv(\"/home/ian.harry/tmp_abi/training_labels.csv\")\n",
    "\n",
    "path = list(training_labels['id'])\n",
    "for i in range(len(path)):\n",
    "    path[i] = '/home/ian.harry/tmp_abi/train/' + path[i][0] +  '/' + path[i][1] +  '/' + path[i][2] +  '/' + path[i] + '.npy'\n",
    "    \n",
    "\n"
   ]
  },
  {
   "cell_type": "code",
   "execution_count": 8,
   "id": "cb77df5f-496b-4864-8b6d-6030ef7ef759",
   "metadata": {},
   "outputs": [],
   "source": [
    "#Function to set a path to call in the data\n",
    "def path2id(idx,is_train = True):\n",
    "    path = '/home/ian.harry/tmp_abi'\n",
    "    if is_train:\n",
    "        path += '/train/' + idx[0] + '/' + idx[1] + '/' + idx[2] + '/' + idx + '.npy'\n",
    "    else:\n",
    "        path += '/train/' + idx[0] + '/' + idx[1] + '/' + idx[2] + '/' + idx + '.npy'\n",
    "    return path"
   ]
  },
  {
   "cell_type": "code",
   "execution_count": 9,
   "id": "a9d7668b-df0e-4c41-b6ce-cadc18770ef7",
   "metadata": {},
   "outputs": [
    {
     "name": "stdout",
     "output_type": "stream",
     "text": [
      "CQT kernels created, time used = 0.0687 seconds\n"
     ]
    },
    {
     "name": "stderr",
     "output_type": "stream",
     "text": [
      "/home/abi.abraham/.local/lib/python3.9/site-packages/nnAudio/utils.py:429: SyntaxWarning: If fmax is given, n_bins will be ignored\n",
      "  warnings.warn(\"If fmax is given, n_bins will be ignored\", SyntaxWarning)\n"
     ]
    }
   ],
   "source": [
    "\n",
    "#function to plot time series of each detector \n",
    "def increase_dimension(idx,is_train,transform=CQT1992v2(sr=2048, fmin=20, fmax=1024, hop_length=64)): \n",
    "    \n",
    "    waves = np.load(path2id(idx,is_train))\n",
    "    waves = np.hstack(waves)\n",
    "    waves = waves / np.max(waves)\n",
    "    waves = torch.from_numpy(waves).float()\n",
    "    image = transform(waves)\n",
    "    image = np.array(image)\n",
    "    image = np.transpose(image,(1,2,0))\n",
    "    return image"
   ]
  },
  {
   "cell_type": "code",
   "execution_count": 10,
   "id": "f640ede6-0d14-4d3d-b3a1-488ea6ba4023",
   "metadata": {},
   "outputs": [],
   "source": [
    "#Dataset Generator \n",
    "class Dataset(Sequence):\n",
    "    \n",
    "    def __init__(self,idx,y=None,batch_size=32, shuffle= True):\n",
    "        self.idx = idx\n",
    "        self.batch_size = batch_size\n",
    "        self.shuffle = shuffle\n",
    "        \n",
    "        if y is not None:\n",
    "            self.is_train=True\n",
    "        else:\n",
    "            self.is_train=False\n",
    "        self.y = y\n",
    "        \n",
    "    def __len__(self):\n",
    "        return math.ceil(len(self.idx)/self.batch_size)\n",
    "    \n",
    "    def __getitem__(self,ids):\n",
    "        batch_ids = self.idx[ids * self.batch_size:(ids + 1) * self.batch_size]\n",
    "        \n",
    "        if self.y is not None:\n",
    "            batch_y = self.y[ids * self.batch_size: (ids + 1) * self.batch_size]\n",
    "            \n",
    "        list_x = np.array([increase_dimension(x,self.is_train) for x in batch_ids])\n",
    "        batch_X = np.stack(list_x)\n",
    "        \n",
    "        if self.is_train:\n",
    "            return batch_X, batch_y\n",
    "        else:\n",
    "            return batch_X\n",
    "    \n",
    "    def on_epoch_end(self):\n",
    "        if self.shuffle and self.is_train:\n",
    "            ids_y = list(zip(self.idx, self.y))\n",
    "            shuffle(ids_y)\n",
    "            self.idx, self.y = list(zip(*ids_y))\n",
    "    \n",
    "    def debug(self):\n",
    "        return self.idx"
   ]
  },
  {
   "cell_type": "code",
   "execution_count": 11,
   "id": "e98e0ed5-f69c-488a-8ecf-76777defc83b",
   "metadata": {},
   "outputs": [],
   "source": [
    "#Reducing the size of dataset \n",
    "train_data_size = len(training_labels['id'].values)//50\n",
    "train_idx = training_labels['id'].values[0:train_data_size]\n",
    "valid_idx = training_labels['target'].values[0:train_data_size]\n",
    "test_idx =  training_labels['id'].values[11200:22400]"
   ]
  },
  {
   "cell_type": "code",
   "execution_count": 12,
   "id": "67ba5888-229c-4c8c-b3b0-6cc04aff609c",
   "metadata": {},
   "outputs": [
    {
     "name": "stdout",
     "output_type": "stream",
     "text": [
      "11200\n",
      "11200\n"
     ]
    }
   ],
   "source": [
    "print(len(train_idx))\n",
    "print(len(test_idx))"
   ]
  },
  {
   "cell_type": "code",
   "execution_count": 13,
   "id": "d3925227-5da9-4903-93f1-5846340a51fc",
   "metadata": {},
   "outputs": [],
   "source": [
    "#Spliting the dataset in to train and test sets\n",
    "x_train, x_test, y_train, y_test = train_test_split(train_idx,valid_idx,test_size=0.05, random_state=None, stratify=valid_idx)"
   ]
  },
  {
   "cell_type": "code",
   "execution_count": 14,
   "id": "93add574-88fb-42f3-af42-9ace74e38b56",
   "metadata": {},
   "outputs": [
    {
     "data": {
      "text/plain": [
       "10640"
      ]
     },
     "execution_count": 14,
     "metadata": {},
     "output_type": "execute_result"
    }
   ],
   "source": [
    "#Applying the dataset generator to train, test and validation sets\n",
    "train_dataset = Dataset(x_train,y_train)\n",
    "valid_dataset = Dataset(x_test, y_test)\n",
    "test_dataset  = Dataset(test_idx)\n",
    "len(y_train)"
   ]
  },
  {
   "cell_type": "code",
   "execution_count": 15,
   "id": "91d22e60-37a5-4ed5-9238-81eacf11e214",
   "metadata": {},
   "outputs": [
    {
     "name": "stdout",
     "output_type": "stream",
     "text": [
      "Model: \"sequential_1\"\n",
      "_________________________________________________________________\n",
      " Layer (type)                Output Shape              Param #   \n",
      "=================================================================\n",
      " conv2d_1 (Conv2D)           (None, 27, 128, 3)        30        \n",
      "                                                                 \n",
      " efficientnet-b0 (Functional  (None, None, None, 1280)  4049564  \n",
      " )                                                               \n",
      "                                                                 \n",
      " global_average_pooling2d (G  (None, 1280)             0         \n",
      " lobalAveragePooling2D)                                          \n",
      "                                                                 \n",
      " dense_8 (Dense)             (None, 256)               327936    \n",
      "                                                                 \n",
      " dense_9 (Dense)             (None, 128)               32896     \n",
      "                                                                 \n",
      " dense_10 (Dense)            (None, 64)                8256      \n",
      "                                                                 \n",
      " dense_11 (Dense)            (None, 32)                2080      \n",
      "                                                                 \n",
      " dense_12 (Dense)            (None, 16)                528       \n",
      "                                                                 \n",
      " dense_13 (Dense)            (None, 8)                 136       \n",
      "                                                                 \n",
      " dense_14 (Dense)            (None, 4)                 36        \n",
      "                                                                 \n",
      " dense_15 (Dense)            (None, 1)                 5         \n",
      "                                                                 \n",
      "=================================================================\n",
      "Total params: 4,421,467\n",
      "Trainable params: 4,379,451\n",
      "Non-trainable params: 42,016\n",
      "_________________________________________________________________\n"
     ]
    }
   ],
   "source": [
    "#Building the CNN model\n",
    "model = Sequential([keras.layers.InputLayer(input_shape=(27,128,1)), Convolution2D(3,3,activation='relu',padding='same'), \n",
    "                   efn.EfficientNetB0(include_top=False,input_shape=(),weights='imagenet'), \n",
    "                   GlobalAveragePooling2D(),\n",
    "                   #GlobalMaxPooling2D,\n",
    "                   Dense(256,activation='relu'),\n",
    "                   Dense(128,activation='relu'),\n",
    "                   Dense(64,activation='relu'), \n",
    "                   Dense(32,activation='relu'), \n",
    "                   Dense(16,activation='relu'),\n",
    "                   Dense(8,activation='relu'),  \n",
    "                   Dense(4,activation='relu'),  \n",
    "                   Dense(1,activation='sigmoid')])\n",
    "\n",
    "model.summary()\n",
    "model.compile(optimizer= Adam(learning_rate=0.001),loss='binary_crossentropy', metrics=[\"accuracy\"])"
   ]
  },
  {
   "cell_type": "code",
   "execution_count": 16,
   "id": "d09d8fdc-beb8-41e4-8be2-68c17dbf5652",
   "metadata": {},
   "outputs": [
    {
     "name": "stdout",
     "output_type": "stream",
     "text": [
      "Epoch 1/5\n",
      "333/333 [==============================] - 673s 2s/step - loss: 0.5728 - accuracy: 0.6878 - val_loss: 0.7272 - val_accuracy: 0.5161\n",
      "Epoch 2/5\n",
      "333/333 [==============================] - 605s 2s/step - loss: 0.4977 - accuracy: 0.7492 - val_loss: 0.6552 - val_accuracy: 0.6250\n",
      "Epoch 3/5\n",
      "333/333 [==============================] - 611s 2s/step - loss: 0.4786 - accuracy: 0.7590 - val_loss: 0.5098 - val_accuracy: 0.7482\n",
      "Epoch 4/5\n",
      "333/333 [==============================] - 605s 2s/step - loss: 0.4636 - accuracy: 0.7753 - val_loss: 0.5260 - val_accuracy: 0.7339\n",
      "Epoch 5/5\n",
      "333/333 [==============================] - 601s 2s/step - loss: 0.4388 - accuracy: 0.7940 - val_loss: 0.5808 - val_accuracy: 0.6429\n"
     ]
    },
    {
     "data": {
      "text/plain": [
       "<keras.callbacks.History at 0x7f3c4de182e0>"
      ]
     },
     "execution_count": 16,
     "metadata": {},
     "output_type": "execute_result"
    }
   ],
   "source": [
    "#Training the model\n",
    "model.fit(train_dataset, validation_data=valid_dataset, use_multiprocessing=True,\n",
    "          epochs = 5)"
   ]
  },
  {
   "cell_type": "code",
   "execution_count": 17,
   "id": "a12e7537-1863-439d-aa96-4db08f2985a2",
   "metadata": {},
   "outputs": [
    {
     "name": "stderr",
     "output_type": "stream",
     "text": [
      "2022-05-19 16:17:02.289427: W tensorflow/python/util/util.cc:368] Sets are not currently considered sequences, but this may change in the future, so consider avoiding using them.\n"
     ]
    },
    {
     "name": "stdout",
     "output_type": "stream",
     "text": [
      "INFO:tensorflow:Assets written to: Project/Model/assets\n"
     ]
    }
   ],
   "source": [
    "model.save('Project/Model')"
   ]
  },
  {
   "cell_type": "code",
   "execution_count": 5,
   "id": "f3264828-8ac1-48a0-9a2e-4e05be1a44f0",
   "metadata": {},
   "outputs": [
    {
     "name": "stderr",
     "output_type": "stream",
     "text": [
      "2022-05-23 02:55:49.732858: W tensorflow/stream_executor/platform/default/dso_loader.cc:64] Could not load dynamic library 'libcuda.so.1'; dlerror: libcuda.so.1: cannot open shared object file: No such file or directory\n",
      "2022-05-23 02:55:49.732928: W tensorflow/stream_executor/cuda/cuda_driver.cc:269] failed call to cuInit: UNKNOWN ERROR (303)\n",
      "2022-05-23 02:55:49.732982: I tensorflow/stream_executor/cuda/cuda_diagnostics.cc:156] kernel driver does not appear to be running on this host (ldas-pcdev14): /proc/driver/nvidia/version does not exist\n",
      "2022-05-23 02:55:49.733571: I tensorflow/core/platform/cpu_feature_guard.cc:151] This TensorFlow binary is optimized with oneAPI Deep Neural Network Library (oneDNN) to use the following CPU instructions in performance-critical operations:  FMA\n",
      "To enable them in other operations, rebuild TensorFlow with the appropriate compiler flags.\n"
     ]
    }
   ],
   "source": [
    "loaded_model = keras.models.load_model('Project/Model')"
   ]
  },
  {
   "cell_type": "code",
   "execution_count": 6,
   "id": "0974aec6-9275-47e7-a239-f87f39102b40",
   "metadata": {},
   "outputs": [],
   "source": [
    "df = pd.DataFrame(list()) \n",
    "df.to_csv('predsv3.csv')\n",
    "preds = pd.read_csv('predsv3.csv')"
   ]
  },
  {
   "cell_type": "code",
   "execution_count": 15,
   "id": "c4b61b05-c88a-4aad-bf8c-65a670b4e105",
   "metadata": {},
   "outputs": [
    {
     "name": "stderr",
     "output_type": "stream",
     "text": [
      "[W NNPACK.cpp:51] Could not initialize NNPACK! Reason: Unsupported hardware.\n"
     ]
    },
    {
     "name": "stdout",
     "output_type": "stream",
     "text": [
      "350/350 [==============================] - 924s 3s/step\n"
     ]
    }
   ],
   "source": [
    "#Model prediciting the using the test sets\n",
    "model_pred = loaded_model.predict(test_dataset, use_multiprocessing=True,verbose=1)\n",
    "model_pred = model_pred.reshape(-1)"
   ]
  },
  {
   "cell_type": "code",
   "execution_count": 22,
   "id": "7798000b-a7f0-4276-8b5f-b036c2c94bd0",
   "metadata": {},
   "outputs": [
    {
     "name": "stdout",
     "output_type": "stream",
     "text": [
      "560000\n",
      "11200\n",
      "11200\n"
     ]
    }
   ],
   "source": [
    "print(len(training_labels))\n",
    "print(len(train_idx))\n",
    "print(len(model_pred))"
   ]
  },
  {
   "cell_type": "code",
   "execution_count": 23,
   "id": "e16e4c97-e660-41f0-ba38-4371216c4c5a",
   "metadata": {},
   "outputs": [
    {
     "name": "stdout",
     "output_type": "stream",
     "text": [
      "11200\n"
     ]
    }
   ],
   "source": [
    "train_data_size2 = len(y_train)\n",
    "test_idx2 = training_labels['id'].values[11200:22400]\n",
    "\n",
    "targets_s = training_labels['target']\n",
    "tar_len = (len(targets_s)//50) \n",
    "targets = training_labels['target'].values[11200:22400]\n",
    "print(len(targets))"
   ]
  },
  {
   "cell_type": "code",
   "execution_count": 24,
   "id": "0717f961-c3b2-4f9a-abf5-48d46163edf5",
   "metadata": {},
   "outputs": [
    {
     "name": "stdout",
     "output_type": "stream",
     "text": [
      "[0.96508336 0.95668286 0.4818788  ... 0.6210368  0.7584832  0.99580324]\n",
      "11200\n"
     ]
    }
   ],
   "source": [
    "print(model_pred)\n",
    "print(len(model_pred))"
   ]
  },
  {
   "cell_type": "code",
   "execution_count": 33,
   "id": "42811eaa-1022-40bb-9aa7-e79376f3995e",
   "metadata": {},
   "outputs": [
    {
     "name": "stdout",
     "output_type": "stream",
     "text": [
      "[1 1 0 ... 0 1 1]\n",
      "11200\n"
     ]
    }
   ],
   "source": [
    "model_target = np.array(model_pred)\n",
    "model_target[:,] = model_target[:,]>0.64# setting threshold to create a binary classification\n",
    "model_targets = model_target.astype(int)\n",
    "print(model_targets)\n",
    "print(len(targets)) \n",
    "    "
   ]
  },
  {
   "cell_type": "code",
   "execution_count": 34,
   "id": "9ab08607-ac16-4258-aa24-d4e581cc001e",
   "metadata": {},
   "outputs": [
    {
     "name": "stdout",
     "output_type": "stream",
     "text": [
      "0.7548214285714285 0.718971897189719\n"
     ]
    }
   ],
   "source": [
    "#To find the best threshold\n",
    "threshs = np.linspace(0,1,10000)\n",
    "\n",
    "max_icv = 0\n",
    "\n",
    "for th in threshs:\n",
    "\n",
    "    icv = preds['Model Predictions'] > th\n",
    "    curr_th = sum(icv == preds['Actual Targets']) / len(preds)\n",
    "    if curr_th > max_icv:\n",
    "        max_icv = curr_th\n",
    "        max_th = th\n",
    "print(max_icv, max_th)"
   ]
  },
  {
   "cell_type": "code",
   "execution_count": 35,
   "id": "8a649333-b978-45e7-86e6-a7456c30d586",
   "metadata": {},
   "outputs": [],
   "source": [
    "#Converting the model predicition to 1 and 0s considering the threshold\n",
    "target_frac = []\n",
    "mod_tar = list(model_targets)\n",
    "act_tar = list(targets)\n",
    "\n",
    "for i in range(len(mod_tar)):\n",
    "    if mod_tar[i] == act_tar[i]:\n",
    "        target_frac.append(1)\n",
    "    else: \n",
    "        target_frac.append(0)"
   ]
  },
  {
   "cell_type": "code",
   "execution_count": 30,
   "id": "003b0f53-aa7c-4d5a-9e57-3ae0a96cbded",
   "metadata": {},
   "outputs": [],
   "source": [
    "predsv3 = pd.DataFrame({'id':test_idx2,'Model Predictions':model_pred, \n",
    "                      'Model Targets':model_targets,\n",
    "                      'Actual Targets' : targets,\n",
    "                      'Classified Targets': target_frac})\n",
    "\n",
    "predsv3.to_csv('predsv3.csv',index = False)"
   ]
  },
  {
   "cell_type": "code",
   "execution_count": 31,
   "id": "3c4c1ae3-c7c8-458a-80c2-b32c94be3be2",
   "metadata": {},
   "outputs": [
    {
     "data": {
      "text/html": [
       "<div>\n",
       "<style scoped>\n",
       "    .dataframe tbody tr th:only-of-type {\n",
       "        vertical-align: middle;\n",
       "    }\n",
       "\n",
       "    .dataframe tbody tr th {\n",
       "        vertical-align: top;\n",
       "    }\n",
       "\n",
       "    .dataframe thead th {\n",
       "        text-align: right;\n",
       "    }\n",
       "</style>\n",
       "<table border=\"1\" class=\"dataframe\">\n",
       "  <thead>\n",
       "    <tr style=\"text-align: right;\">\n",
       "      <th></th>\n",
       "      <th>id</th>\n",
       "      <th>Model Predictions</th>\n",
       "      <th>Model Targets</th>\n",
       "      <th>Actual Targets</th>\n",
       "      <th>Classified Targets</th>\n",
       "    </tr>\n",
       "  </thead>\n",
       "  <tbody>\n",
       "    <tr>\n",
       "      <th>0</th>\n",
       "      <td>0512c12234</td>\n",
       "      <td>0.965083</td>\n",
       "      <td>1</td>\n",
       "      <td>1</td>\n",
       "      <td>1</td>\n",
       "    </tr>\n",
       "    <tr>\n",
       "      <th>1</th>\n",
       "      <td>0512c43788</td>\n",
       "      <td>0.956683</td>\n",
       "      <td>1</td>\n",
       "      <td>1</td>\n",
       "      <td>1</td>\n",
       "    </tr>\n",
       "    <tr>\n",
       "      <th>2</th>\n",
       "      <td>0512f94477</td>\n",
       "      <td>0.481879</td>\n",
       "      <td>0</td>\n",
       "      <td>1</td>\n",
       "      <td>0</td>\n",
       "    </tr>\n",
       "    <tr>\n",
       "      <th>3</th>\n",
       "      <td>051303dc5a</td>\n",
       "      <td>0.388922</td>\n",
       "      <td>0</td>\n",
       "      <td>0</td>\n",
       "      <td>1</td>\n",
       "    </tr>\n",
       "    <tr>\n",
       "      <th>4</th>\n",
       "      <td>051351f27f</td>\n",
       "      <td>0.462480</td>\n",
       "      <td>0</td>\n",
       "      <td>1</td>\n",
       "      <td>0</td>\n",
       "    </tr>\n",
       "  </tbody>\n",
       "</table>\n",
       "</div>"
      ],
      "text/plain": [
       "           id  Model Predictions  Model Targets  Actual Targets  \\\n",
       "0  0512c12234           0.965083              1               1   \n",
       "1  0512c43788           0.956683              1               1   \n",
       "2  0512f94477           0.481879              0               1   \n",
       "3  051303dc5a           0.388922              0               0   \n",
       "4  051351f27f           0.462480              0               1   \n",
       "\n",
       "   Classified Targets  \n",
       "0                   1  \n",
       "1                   1  \n",
       "2                   0  \n",
       "3                   1  \n",
       "4                   0  "
      ]
     },
     "execution_count": 31,
     "metadata": {},
     "output_type": "execute_result"
    }
   ],
   "source": [
    "preds.head(5)"
   ]
  },
  {
   "cell_type": "code",
   "execution_count": 36,
   "id": "70d31821-d006-4342-acb1-c91062beb929",
   "metadata": {},
   "outputs": [
    {
     "name": "stdout",
     "output_type": "stream",
     "text": [
      "Classfied Correctly:  73.25892857142857 Classfied Incorrectly:  26.74107142857143\n"
     ]
    }
   ],
   "source": [
    "num_ones = np.count_nonzero(target_frac)\n",
    "acc_score = (num_ones/len(target_frac))*100\n",
    "error_score = (100-acc_score)\n",
    "print('Classfied Correctly: ', acc_score, 'Classfied Incorrectly: ', error_score)\n"
   ]
  },
  {
   "cell_type": "code",
   "execution_count": 37,
   "id": "fc73d602-6432-4b6f-86a0-15500c2f303a",
   "metadata": {},
   "outputs": [
    {
     "name": "stdout",
     "output_type": "stream",
     "text": [
      "True Positive(TP) =  4095\n",
      "False Positive(FP) =  1526\n",
      "True Negative(TN) =  4110\n",
      "False Negative(FN) =  1469\n",
      "Accuracy of the binary classification = 0.733\n"
     ]
    }
   ],
   "source": [
    "cm = confusion_matrix(act_tar,mod_tar)\n",
    "\n",
    "TN, FP, FN, TP = confusion_matrix(act_tar,mod_tar).ravel()\n",
    "\n",
    "print('True Positive(TP) = ', TP)\n",
    "print('False Positive(FP) = ', FP)\n",
    "print('True Negative(TN) = ', TN)\n",
    "print('False Negative(FN) = ', FN)\n",
    "\n",
    "accuracy = (TP + TN)/(TP+FP+TN+FN)\n",
    "\n",
    "print('Accuracy of the binary classification = {:0.3f}'.format(accuracy))"
   ]
  },
  {
   "cell_type": "code",
   "execution_count": 38,
   "id": "a37fb400-65b0-4e44-804b-505301d70de8",
   "metadata": {},
   "outputs": [
    {
     "data": {
      "image/png": "[encoded data removed]",
      "text/plain": [
       "<Figure size 432x288 with 2 Axes>"
      ]
     },
     "metadata": {
      "needs_background": "light"
     },
     "output_type": "display_data"
    }
   ],
   "source": [
    "group_names = ['True Neg','False Neg','False Pos','True Pos']\n",
    "\n",
    "group_counts = [\"{0:0.0f}\".format(value) for value in\n",
    "                cm.flatten()]\n",
    "\n",
    "group_percentages = [\"{0:.2%}\".format(value) for value in\n",
    "                     cm.flatten()/np.sum(cm)]\n",
    "\n",
    "labels = [f\"{v1}\\n{v2}\\n{v3}\" for v1, v2, v3 in\n",
    "          zip(group_names,group_counts,group_percentages)]\n",
    "\n",
    "labels = np.asarray(labels).reshape(2,2)\n",
    "\n",
    "ax = sns.heatmap(cm, annot=labels, fmt='', cmap='Reds')\n",
    "\n",
    "#ax.set_title('Seaborn Confusion Matrix with labels\\n\\n');\n",
    "ax.set_xlabel('\\nPredicted Values')\n",
    "ax.set_ylabel('Actual Values ');\n",
    "\n",
    "## Ticket labels - List must be in alphabetical order\n",
    "ax.xaxis.set_ticklabels(['False','True'])\n",
    "ax.yaxis.set_ticklabels(['False','True'])\n",
    "\n",
    "## Display the visualization of the Confusion Matrix.\n",
    "#plt.show()\n",
    "cm_CNN_of = plt.gcf()"
   ]
  },
  {
   "cell_type": "code",
   "execution_count": 39,
   "id": "7b82be3a-9a6f-4727-99c1-e00993f18cfe",
   "metadata": {},
   "outputs": [],
   "source": [
    "cm_CNN_of.savefig(\"cm_CNN_of.pdf\",format=\"pdf\", bbox_inches ='tight')"
   ]
  },
  {
   "cell_type": "code",
   "execution_count": null,
   "id": "83a3cfe0-83fa-4cae-939f-a708b91b3321",
   "metadata": {},
   "outputs": [],
   "source": []
  }
 ],
 "metadata": {
  "kernelspec": {
   "display_name": "igwn-py39",
   "language": "python",
   "name": "igwn-py39"
  },
  "language_info": {
   "codemirror_mode": {
    "name": "ipython",
    "version": 3
   },
   "file_extension": ".py",
   "mimetype": "text/x-python",
   "name": "python",
   "nbconvert_exporter": "python",
   "pygments_lexer": "ipython3",
   "version": "3.9.10"
  }
 },
 "nbformat": 4,
 "nbformat_minor": 5
}
