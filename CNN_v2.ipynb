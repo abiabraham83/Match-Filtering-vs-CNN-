{
  "cells": [
    {
      "cell_type": "markdown",
      "metadata": {
        "id": "view-in-github",
        "colab_type": "text"
      },
      "source": [
        "<a href=\"https://colab.research.google.com/github/abiabraham83/Match-Filtering-vs-CNN-/blob/main/CNN_v2.ipynb\" target=\"_parent\"><img src=\"https://colab.research.google.com/assets/colab-badge.svg\" alt=\"Open In Colab\"/></a>"
      ]
    },
    {
      "cell_type": "code",
      "execution_count": null,
      "id": "b7255370-36f9-434a-a01f-78d2298cc235",
      "metadata": {
        "id": "b7255370-36f9-434a-a01f-78d2298cc235"
      },
      "outputs": [],
      "source": [
        "!pip install tensorflow #Machine learning tool"
      ]
    },
    {
      "cell_type": "code",
      "source": [
        "from google.colab import drive\n",
        "drive.mount('/content/drive')"
      ],
      "metadata": {
        "id": "RpTbFca3Gd-U",
        "outputId": "cb7dbea5-ecd6-4c5d-9b20-36b465d0d12e",
        "colab": {
          "base_uri": "https://localhost:8080/"
        }
      },
      "id": "RpTbFca3Gd-U",
      "execution_count": 26,
      "outputs": [
        {
          "output_type": "stream",
          "name": "stdout",
          "text": [
            "Drive already mounted at /content/drive; to attempt to forcibly remount, call drive.mount(\"/content/drive\", force_remount=True).\n"
          ]
        }
      ]
    },
    {
      "cell_type": "code",
      "source": [
        "!pip install -q nnAudio # This allows the timeseries data to cobverteed into a image(spectrogram)"
      ],
      "metadata": {
        "id": "fY-NwVrijOAD",
        "outputId": "b1721d7c-51fb-4ae3-d5d4-10d293e95f14",
        "colab": {
          "base_uri": "https://localhost:8080/"
        }
      },
      "id": "fY-NwVrijOAD",
      "execution_count": null,
      "outputs": [
        {
          "output_type": "stream",
          "name": "stdout",
          "text": [
            "\u001b[?25l\r\u001b[K     |███████▋                        | 10 kB 15.8 MB/s eta 0:00:01\r\u001b[K     |███████████████▏                | 20 kB 4.8 MB/s eta 0:00:01\r\u001b[K     |██████████████████████▊         | 30 kB 3.7 MB/s eta 0:00:01\r\u001b[K     |██████████████████████████████▎ | 40 kB 3.9 MB/s eta 0:00:01\r\u001b[K     |████████████████████████████████| 43 kB 1.2 MB/s \n"
          ]
        }
      ]
    },
    {
      "cell_type": "code",
      "source": [
        "!pip install -U efficientnet #pre-trained model on a massive image database "
      ],
      "metadata": {
        "id": "sM-ZYuV-j-Or"
      },
      "id": "sM-ZYuV-j-Or",
      "execution_count": null,
      "outputs": []
    },
    {
      "cell_type": "code",
      "execution_count": null,
      "id": "28f65790-e436-42ab-b892-e3efa74eed17",
      "metadata": {
        "id": "28f65790-e436-42ab-b892-e3efa74eed17"
      },
      "outputs": [],
      "source": [
        "#Import packages\n",
        "\n",
        "import numpy as np\n",
        "import pandas as pd\n",
        "import matplotlib.pyplot as plt\n",
        "import math\n",
        "import seaborn as sns\n",
        "from scipy.stats import sem\n",
        "\n",
        "#Machine learning tool\n",
        "\n",
        "import keras\n",
        "import tensorflow \n",
        "from keras.models import Sequential\n",
        "from tensorflow.keras.utils import Sequence\n",
        "from tensorflow.keras.optimizers import Adam, SGD\n",
        "from tensorflow.keras import models, layers\n",
        "from tensorflow.keras.layers import Dense, Dropout, Activation, Input, GlobalAveragePooling2D, Convolution2D, GlobalMaxPooling2D\n",
        "from tensorflow.keras.preprocessing import image\n",
        "\n",
        "from random import shuffle\n",
        "\n",
        "from sklearn.model_selection import train_test_split\n",
        "from sklearn.metrics import roc_auc_score, roc_curve, auc, confusion_matrix\n",
        "\n",
        "import torch\n",
        "from nnAudio.Spectrogram import CQT1992v2\n",
        "import efficientnet.tfkeras as efn"
      ]
    },
    {
      "cell_type": "code",
      "source": [
        "!unzip drive/My\\ Drive/Kaggle\\ Dataset/train.zip #extracts the compresses file within  colab"
      ],
      "metadata": {
        "id": "LIVNsRkH1zBf"
      },
      "id": "LIVNsRkH1zBf",
      "execution_count": null,
      "outputs": []
    },
    {
      "cell_type": "code",
      "source": [
        "# I am using concepts and certain codes used by Mrigendra Agrwal from Kaggle.\n",
        "#Reference https://www.kaggle.com/code/mrigendraagrawal/tf-g2net-eda-and-starter"
      ],
      "metadata": {
        "id": "9RsYzgoO93SI"
      },
      "id": "9RsYzgoO93SI",
      "execution_count": null,
      "outputs": []
    },
    {
      "cell_type": "code",
      "execution_count": null,
      "id": "95a3bb64-2506-4149-8662-78fe85e8d98c",
      "metadata": {
        "id": "95a3bb64-2506-4149-8662-78fe85e8d98c"
      },
      "outputs": [],
      "source": [
        "#Read in the training labels csv and assign paths\n",
        "training_labels = pd.read_csv('/content/drive/My Drive/Kaggle Dataset/training_labels.csv')\n",
        "\n",
        "path = list(training_labels['id'])\n",
        "for i in range(len(path)):\n",
        "    path[i] = '/content/drive/My Drive/Kaggle Dataset/training_labels.csv' + path[i][0] +  '/' + path[i][1] +  '/' + path[i][2] +  '/' + path[i] + '.npy'"
      ]
    },
    {
      "cell_type": "code",
      "execution_count": null,
      "id": "cb77df5f-496b-4864-8b6d-6030ef7ef759",
      "metadata": {
        "id": "cb77df5f-496b-4864-8b6d-6030ef7ef759"
      },
      "outputs": [],
      "source": [
        "#Function to set a path to call in the data\n",
        "def path2id(idx,is_train = True):\n",
        "    path = '/content/'\n",
        "    if is_train:\n",
        "        path +=  idx[0] + '/' + idx[1] + '/' + idx[2] + '/' + idx + '.npy'\n",
        "    else:\n",
        "        path +=  idx[0] + '/' + idx[1] + '/' + idx[2] + '/' + idx + '.npy'\n",
        "    return path"
      ]
    },
    {
      "cell_type": "code",
      "execution_count": null,
      "id": "a9d7668b-df0e-4c41-b6ce-cadc18770ef7",
      "metadata": {
        "id": "a9d7668b-df0e-4c41-b6ce-cadc18770ef7"
      },
      "outputs": [],
      "source": [
        "#function to plot time series of each detector and for a q-scan.\n",
        "def increase_dimension(idx,is_train,transform=CQT1992v2(sr=2048, fmin=20, fmax=1024, hop_length=64)): \n",
        "    \n",
        "    waves = np.load(path2id(idx,is_train)) #loads the data \n",
        "    waves = np.hstack(waves)\n",
        "    waves = waves / np.max(waves)\n",
        "    waves = torch.from_numpy(waves).float()\n",
        "    image = transform(waves) # converts into an image\n",
        "    image = np.array(image)\n",
        "    image = np.transpose(image,(1,2,0))\n",
        "    return image"
      ]
    },
    {
      "cell_type": "code",
      "execution_count": null,
      "id": "f640ede6-0d14-4d3d-b3a1-488ea6ba4023",
      "metadata": {
        "id": "f640ede6-0d14-4d3d-b3a1-488ea6ba4023"
      },
      "outputs": [],
      "source": [
        "#Dataset Generator \n",
        "class Dataset(Sequence):\n",
        "    \n",
        "    def __init__(self,idx,y=None,batch_size=32, shuffle= True):\n",
        "        self.idx = idx\n",
        "        self.batch_size = batch_size\n",
        "        self.shuffle = shuffle\n",
        "        \n",
        "        if y is not None:\n",
        "            self.is_train=True\n",
        "        else:\n",
        "            self.is_train=False\n",
        "        self.y = y\n",
        "        \n",
        "    def __len__(self):\n",
        "        return math.ceil(len(self.idx)/self.batch_size)\n",
        "    \n",
        "    def __getitem__(self,ids):\n",
        "        batch_ids = self.idx[ids * self.batch_size:(ids + 1) * self.batch_size]\n",
        "        \n",
        "        if self.y is not None:\n",
        "            batch_y = self.y[ids * self.batch_size: (ids + 1) * self.batch_size]\n",
        "            \n",
        "        list_x = np.array([increase_dimension(x,self.is_train) for x in batch_ids])\n",
        "        batch_X = np.stack(list_x)\n",
        "        \n",
        "        if self.is_train:\n",
        "            return batch_X, batch_y\n",
        "        else:\n",
        "            return batch_X\n",
        "    \n",
        "    def on_epoch_end(self):\n",
        "        if self.shuffle and self.is_train:\n",
        "            ids_y = list(zip(self.idx, self.y))\n",
        "            shuffle(ids_y)\n",
        "            self.idx, self.y = list(zip(*ids_y))\n",
        "    \n",
        "    def debug(self):\n",
        "        return self.idx"
      ]
    },
    {
      "cell_type": "code",
      "execution_count": null,
      "id": "e98e0ed5-f69c-488a-8ecf-76777defc83b",
      "metadata": {
        "id": "e98e0ed5-f69c-488a-8ecf-76777defc83b"
      },
      "outputs": [],
      "source": [
        "#Reducing the size of dataset \n",
        "train_data_size = len(training_labels['id'].values)//8 #reducing the data size to 70,000 \n",
        "train_idx = training_labels['id'].values[0:train_data_size]\n",
        "valid_idx = training_labels['target'].values[0:train_data_size]\n",
        "test_idx =  training_labels['id'].values[70000:140000] "
      ]
    },
    {
      "cell_type": "code",
      "execution_count": null,
      "id": "67ba5888-229c-4c8c-b3b0-6cc04aff609c",
      "metadata": {
        "id": "67ba5888-229c-4c8c-b3b0-6cc04aff609c"
      },
      "outputs": [],
      "source": [
        "print(len(train_idx))\n",
        "print(len(test_idx))"
      ]
    },
    {
      "cell_type": "code",
      "execution_count": null,
      "id": "d3925227-5da9-4903-93f1-5846340a51fc",
      "metadata": {
        "id": "d3925227-5da9-4903-93f1-5846340a51fc"
      },
      "outputs": [],
      "source": [
        "#Spliting the dataset in to train and test sets\n",
        "x_train, x_test, y_train, y_test = train_test_split(train_idx,valid_idx,test_size=0.05, random_state=None, stratify=valid_idx)"
      ]
    },
    {
      "cell_type": "code",
      "execution_count": null,
      "id": "93add574-88fb-42f3-af42-9ace74e38b56",
      "metadata": {
        "id": "93add574-88fb-42f3-af42-9ace74e38b56"
      },
      "outputs": [],
      "source": [
        "#Applying the dataset generator to train, test and validation sets\n",
        "train_dataset = Dataset(x_train,y_train)\n",
        "valid_dataset = Dataset(x_test, y_test)\n",
        "test_dataset  = Dataset(test_idx)\n",
        "len(y_train)"
      ]
    },
    {
      "cell_type": "code",
      "execution_count": null,
      "id": "91d22e60-37a5-4ed5-9238-81eacf11e214",
      "metadata": {
        "id": "91d22e60-37a5-4ed5-9238-81eacf11e214",
        "outputId": "9f750c33-08cb-4275-a6a4-0a95c36e8c11",
        "colab": {
          "base_uri": "https://localhost:8080/"
        }
      },
      "outputs": [
        {
          "output_type": "stream",
          "name": "stdout",
          "text": [
            "Downloading data from https://github.com/Callidior/keras-applications/releases/download/efficientnet/efficientnet-b0_weights_tf_dim_ordering_tf_kernels_autoaugment_notop.h5\n",
            "16809984/16804768 [==============================] - 1s 0us/step\n",
            "16818176/16804768 [==============================] - 1s 0us/step\n",
            "Model: \"sequential\"\n",
            "_________________________________________________________________\n",
            " Layer (type)                Output Shape              Param #   \n",
            "=================================================================\n",
            " conv2d (Conv2D)             (None, 27, 128, 3)        30        \n",
            "                                                                 \n",
            " efficientnet-b0 (Functional  (None, None, None, 1280)  4049564  \n",
            " )                                                               \n",
            "                                                                 \n",
            " global_average_pooling2d (G  (None, 1280)             0         \n",
            " lobalAveragePooling2D)                                          \n",
            "                                                                 \n",
            " dense (Dense)               (None, 256)               327936    \n",
            "                                                                 \n",
            " dense_1 (Dense)             (None, 128)               32896     \n",
            "                                                                 \n",
            " dense_2 (Dense)             (None, 64)                8256      \n",
            "                                                                 \n",
            " dense_3 (Dense)             (None, 1)                 65        \n",
            "                                                                 \n",
            "=================================================================\n",
            "Total params: 4,418,747\n",
            "Trainable params: 4,376,731\n",
            "Non-trainable params: 42,016\n",
            "_________________________________________________________________\n"
          ]
        }
      ],
      "source": [
        "#Building the CNN model\n",
        "#input shape decided from examples and trial and wrror. \n",
        "model = Sequential([keras.layers.InputLayer(input_shape=(27,128,1)), Convolution2D(3,3,activation='relu',padding='same'), \n",
        "                   efn.EfficientNetB0(include_top=False,input_shape=(),weights='imagenet'),\n",
        "                   GlobalAveragePooling2D(),\n",
        "                   Dense(256,activation='relu'),\n",
        "                   Dense(128,activation='relu'),\n",
        "                   Dense(64,activation='relu'), \n",
        "                   Dense(1,activation='sigmoid')])\n",
        "\n",
        "model.summary()\n",
        "model.compile(optimizer= Adam(learning_rate=0.001),loss='binary_crossentropy', metrics=[\"accuracy\"]) # loss is binary_crossentropy, this is for binary classification. "
      ]
    },
    {
      "cell_type": "code",
      "execution_count": null,
      "id": "d09d8fdc-beb8-41e4-8be2-68c17dbf5652",
      "metadata": {
        "id": "d09d8fdc-beb8-41e4-8be2-68c17dbf5652"
      },
      "outputs": [],
      "source": [
        "#Training the model\n",
        "model.fit(train_dataset, validation_data=valid_dataset, use_multiprocessing=True,\n",
        "          epochs = 3) "
      ]
    },
    {
      "cell_type": "code",
      "execution_count": null,
      "id": "a12e7537-1863-439d-aa96-4db08f2985a2",
      "metadata": {
        "id": "a12e7537-1863-439d-aa96-4db08f2985a2"
      },
      "outputs": [],
      "source": [
        "model.save('Project/Model')"
      ]
    },
    {
      "cell_type": "code",
      "execution_count": null,
      "id": "f3264828-8ac1-48a0-9a2e-4e05be1a44f0",
      "metadata": {
        "id": "f3264828-8ac1-48a0-9a2e-4e05be1a44f0"
      },
      "outputs": [],
      "source": [
        "loaded_model_v2 = keras.models.load_model('Project/Model')"
      ]
    },
    {
      "cell_type": "code",
      "execution_count": 14,
      "id": "0974aec6-9275-47e7-a239-f87f39102b40",
      "metadata": {
        "id": "0974aec6-9275-47e7-a239-f87f39102b40"
      },
      "outputs": [],
      "source": [
        "df = pd.DataFrame(list()) \n",
        "df.to_csv('preds.csv')\n",
        "preds = pd.read_csv('preds.csv')"
      ]
    },
    {
      "cell_type": "code",
      "execution_count": null,
      "id": "c4b61b05-c88a-4aad-bf8c-65a670b4e105",
      "metadata": {
        "id": "c4b61b05-c88a-4aad-bf8c-65a670b4e105"
      },
      "outputs": [],
      "source": [
        "#Model predicting the using the test sets\n",
        "model_pred = loaded_model_v2.predict(test_dataset, use_multiprocessing=True,verbose=1)\n",
        "model_pred = model_pred.reshape(-1)"
      ]
    },
    {
      "cell_type": "code",
      "execution_count": null,
      "id": "7798000b-a7f0-4276-8b5f-b036c2c94bd0",
      "metadata": {
        "id": "7798000b-a7f0-4276-8b5f-b036c2c94bd0"
      },
      "outputs": [],
      "source": [
        "print(len(training_labels))\n",
        "print(len(train_idx))\n",
        "print(len(model_pred))"
      ]
    },
    {
      "cell_type": "code",
      "execution_count": 17,
      "id": "e16e4c97-e660-41f0-ba38-4371216c4c5a",
      "metadata": {
        "id": "e16e4c97-e660-41f0-ba38-4371216c4c5a",
        "colab": {
          "base_uri": "https://localhost:8080/"
        },
        "outputId": "fbe0d244-06c9-4b71-a9d9-ba72066c1948"
      },
      "outputs": [
        {
          "output_type": "stream",
          "name": "stdout",
          "text": [
            "70000\n"
          ]
        }
      ],
      "source": [
        "train_data_size2 = len(y_train)\n",
        "test_idx2 = training_labels['id'].values[70000:140000]\n",
        "\n",
        "targets_s = training_labels['target']\n",
        "tar_len = (len(targets_s)//5) \n",
        "targets = training_labels['target'].values[70000:140000]\n",
        "print(len(targets))"
      ]
    },
    {
      "cell_type": "code",
      "execution_count": null,
      "id": "0717f961-c3b2-4f9a-abf5-48d46163edf5",
      "metadata": {
        "id": "0717f961-c3b2-4f9a-abf5-48d46163edf5"
      },
      "outputs": [],
      "source": [
        "print(model_pred)\n",
        "print(len(model_pred))"
      ]
    },
    {
      "cell_type": "code",
      "execution_count": null,
      "id": "42811eaa-1022-40bb-9aa7-e79376f3995e",
      "metadata": {
        "id": "42811eaa-1022-40bb-9aa7-e79376f3995e",
        "colab": {
          "base_uri": "https://localhost:8080/"
        },
        "outputId": "210a909b-9b38-4cfd-a092-82ed32927d42"
      },
      "outputs": [
        {
          "output_type": "stream",
          "name": "stdout",
          "text": [
            "[0 0 0 ... 0 0 0]\n",
            "70000\n"
          ]
        }
      ],
      "source": [
        "model_target = np.array(model_pred)\n",
        "model_target[:,] = model_target[:,]>0.64 # setting threshold to create a binary classification\n",
        "model_targets = model_target.astype(int)\n",
        "print(model_targets)\n",
        "print(len(targets)) \n",
        "    "
      ]
    },
    {
      "cell_type": "code",
      "execution_count": null,
      "id": "9ab08607-ac16-4258-aa24-d4e581cc001e",
      "metadata": {
        "id": "9ab08607-ac16-4258-aa24-d4e581cc001e"
      },
      "outputs": [],
      "source": [
        "#To find the best threshold\n",
        "threshs = np.linspace(0,1,10000)\n",
        "\n",
        "max_icv = 0\n",
        "\n",
        "for th in threshs:\n",
        "\n",
        "    icv = preds['Model Predictions'] > th\n",
        "    curr_th = sum(icv == preds['Actual Targets']) / len(preds)\n",
        "    if curr_th > max_icv:\n",
        "        max_icv = curr_th\n",
        "        max_th = th\n",
        "print(max_icv, max_th)"
      ]
    },
    {
      "cell_type": "code",
      "execution_count": null,
      "id": "8a649333-b978-45e7-86e6-a7456c30d586",
      "metadata": {
        "id": "8a649333-b978-45e7-86e6-a7456c30d586"
      },
      "outputs": [],
      "source": [
        "#Converting the model predicition to 1 and 0s considering the threshold\n",
        "target_frac = []\n",
        "mod_tar = list(model_targets)\n",
        "act_tar = list(targets)\n",
        "\n",
        "for i in range(len(mod_tar)):\n",
        "    if mod_tar[i] == act_tar[i]:\n",
        "        target_frac.append(1)\n",
        "    else: \n",
        "        target_frac.append(0)\n",
        "\n",
        "\n",
        "    \n"
      ]
    },
    {
      "cell_type": "code",
      "execution_count": null,
      "id": "003b0f53-aa7c-4d5a-9e57-3ae0a96cbded",
      "metadata": {
        "id": "003b0f53-aa7c-4d5a-9e57-3ae0a96cbded"
      },
      "outputs": [],
      "source": [
        "preds = pd.DataFrame({'id':test_idx2,'Model Predictions':model_pred, \n",
        "                      'Model Targets':model_targets,\n",
        "                      'Actual Targets' : targets,\n",
        "                      'Classified Targets': target_frac})\n",
        "\n",
        "preds.to_csv('preds.csv',index = False)"
      ]
    },
    {
      "cell_type": "code",
      "execution_count": null,
      "id": "3c4c1ae3-c7c8-458a-80c2-b32c94be3be2",
      "metadata": {
        "id": "3c4c1ae3-c7c8-458a-80c2-b32c94be3be2",
        "colab": {
          "base_uri": "https://localhost:8080/",
          "height": 206
        },
        "outputId": "f5e3cf12-0084-45ed-af7f-c27d1e89eb38"
      },
      "outputs": [
        {
          "output_type": "execute_result",
          "data": {
            "text/plain": [
              "           id  Model Predictions  Model Targets  Actual Targets  \\\n",
              "0  1fca0e9a1f           0.238293              0               0   \n",
              "1  1fca0fe3b6           0.358224              0               0   \n",
              "2  1fca129128           0.230218              0               1   \n",
              "3  1fca20e9d0           0.225951              0               0   \n",
              "4  1fca2327df           0.347042              0               0   \n",
              "\n",
              "   Classified Targets  \n",
              "0                   1  \n",
              "1                   1  \n",
              "2                   0  \n",
              "3                   1  \n",
              "4                   1  "
            ],
            "text/html": [
              "\n",
              "  <div id=\"df-6ea63cfe-5cfc-4cf1-80b2-dcdb88d38995\">\n",
              "    <div class=\"colab-df-container\">\n",
              "      <div>\n",
              "<style scoped>\n",
              "    .dataframe tbody tr th:only-of-type {\n",
              "        vertical-align: middle;\n",
              "    }\n",
              "\n",
              "    .dataframe tbody tr th {\n",
              "        vertical-align: top;\n",
              "    }\n",
              "\n",
              "    .dataframe thead th {\n",
              "        text-align: right;\n",
              "    }\n",
              "</style>\n",
              "<table border=\"1\" class=\"dataframe\">\n",
              "  <thead>\n",
              "    <tr style=\"text-align: right;\">\n",
              "      <th></th>\n",
              "      <th>id</th>\n",
              "      <th>Model Predictions</th>\n",
              "      <th>Model Targets</th>\n",
              "      <th>Actual Targets</th>\n",
              "      <th>Classified Targets</th>\n",
              "    </tr>\n",
              "  </thead>\n",
              "  <tbody>\n",
              "    <tr>\n",
              "      <th>0</th>\n",
              "      <td>1fca0e9a1f</td>\n",
              "      <td>0.238293</td>\n",
              "      <td>0</td>\n",
              "      <td>0</td>\n",
              "      <td>1</td>\n",
              "    </tr>\n",
              "    <tr>\n",
              "      <th>1</th>\n",
              "      <td>1fca0fe3b6</td>\n",
              "      <td>0.358224</td>\n",
              "      <td>0</td>\n",
              "      <td>0</td>\n",
              "      <td>1</td>\n",
              "    </tr>\n",
              "    <tr>\n",
              "      <th>2</th>\n",
              "      <td>1fca129128</td>\n",
              "      <td>0.230218</td>\n",
              "      <td>0</td>\n",
              "      <td>1</td>\n",
              "      <td>0</td>\n",
              "    </tr>\n",
              "    <tr>\n",
              "      <th>3</th>\n",
              "      <td>1fca20e9d0</td>\n",
              "      <td>0.225951</td>\n",
              "      <td>0</td>\n",
              "      <td>0</td>\n",
              "      <td>1</td>\n",
              "    </tr>\n",
              "    <tr>\n",
              "      <th>4</th>\n",
              "      <td>1fca2327df</td>\n",
              "      <td>0.347042</td>\n",
              "      <td>0</td>\n",
              "      <td>0</td>\n",
              "      <td>1</td>\n",
              "    </tr>\n",
              "  </tbody>\n",
              "</table>\n",
              "</div>\n",
              "      <button class=\"colab-df-convert\" onclick=\"convertToInteractive('df-6ea63cfe-5cfc-4cf1-80b2-dcdb88d38995')\"\n",
              "              title=\"Convert this dataframe to an interactive table.\"\n",
              "              style=\"display:none;\">\n",
              "        \n",
              "  <svg xmlns=\"http://www.w3.org/2000/svg\" height=\"24px\"viewBox=\"0 0 24 24\"\n",
              "       width=\"24px\">\n",
              "    <path d=\"M0 0h24v24H0V0z\" fill=\"none\"/>\n",
              "    <path d=\"M18.56 5.44l.94 2.06.94-2.06 2.06-.94-2.06-.94-.94-2.06-.94 2.06-2.06.94zm-11 1L8.5 8.5l.94-2.06 2.06-.94-2.06-.94L8.5 2.5l-.94 2.06-2.06.94zm10 10l.94 2.06.94-2.06 2.06-.94-2.06-.94-.94-2.06-.94 2.06-2.06.94z\"/><path d=\"M17.41 7.96l-1.37-1.37c-.4-.4-.92-.59-1.43-.59-.52 0-1.04.2-1.43.59L10.3 9.45l-7.72 7.72c-.78.78-.78 2.05 0 2.83L4 21.41c.39.39.9.59 1.41.59.51 0 1.02-.2 1.41-.59l7.78-7.78 2.81-2.81c.8-.78.8-2.07 0-2.86zM5.41 20L4 18.59l7.72-7.72 1.47 1.35L5.41 20z\"/>\n",
              "  </svg>\n",
              "      </button>\n",
              "      \n",
              "  <style>\n",
              "    .colab-df-container {\n",
              "      display:flex;\n",
              "      flex-wrap:wrap;\n",
              "      gap: 12px;\n",
              "    }\n",
              "\n",
              "    .colab-df-convert {\n",
              "      background-color: #E8F0FE;\n",
              "      border: none;\n",
              "      border-radius: 50%;\n",
              "      cursor: pointer;\n",
              "      display: none;\n",
              "      fill: #1967D2;\n",
              "      height: 32px;\n",
              "      padding: 0 0 0 0;\n",
              "      width: 32px;\n",
              "    }\n",
              "\n",
              "    .colab-df-convert:hover {\n",
              "      background-color: #E2EBFA;\n",
              "      box-shadow: 0px 1px 2px rgba(60, 64, 67, 0.3), 0px 1px 3px 1px rgba(60, 64, 67, 0.15);\n",
              "      fill: #174EA6;\n",
              "    }\n",
              "\n",
              "    [theme=dark] .colab-df-convert {\n",
              "      background-color: #3B4455;\n",
              "      fill: #D2E3FC;\n",
              "    }\n",
              "\n",
              "    [theme=dark] .colab-df-convert:hover {\n",
              "      background-color: #434B5C;\n",
              "      box-shadow: 0px 1px 3px 1px rgba(0, 0, 0, 0.15);\n",
              "      filter: drop-shadow(0px 1px 2px rgba(0, 0, 0, 0.3));\n",
              "      fill: #FFFFFF;\n",
              "    }\n",
              "  </style>\n",
              "\n",
              "      <script>\n",
              "        const buttonEl =\n",
              "          document.querySelector('#df-6ea63cfe-5cfc-4cf1-80b2-dcdb88d38995 button.colab-df-convert');\n",
              "        buttonEl.style.display =\n",
              "          google.colab.kernel.accessAllowed ? 'block' : 'none';\n",
              "\n",
              "        async function convertToInteractive(key) {\n",
              "          const element = document.querySelector('#df-6ea63cfe-5cfc-4cf1-80b2-dcdb88d38995');\n",
              "          const dataTable =\n",
              "            await google.colab.kernel.invokeFunction('convertToInteractive',\n",
              "                                                     [key], {});\n",
              "          if (!dataTable) return;\n",
              "\n",
              "          const docLinkHtml = 'Like what you see? Visit the ' +\n",
              "            '<a target=\"_blank\" href=https://colab.research.google.com/notebooks/data_table.ipynb>data table notebook</a>'\n",
              "            + ' to learn more about interactive tables.';\n",
              "          element.innerHTML = '';\n",
              "          dataTable['output_type'] = 'display_data';\n",
              "          await google.colab.output.renderOutput(dataTable, element);\n",
              "          const docLink = document.createElement('div');\n",
              "          docLink.innerHTML = docLinkHtml;\n",
              "          element.appendChild(docLink);\n",
              "        }\n",
              "      </script>\n",
              "    </div>\n",
              "  </div>\n",
              "  "
            ]
          },
          "metadata": {},
          "execution_count": 39
        }
      ],
      "source": [
        "preds.head(5)"
      ]
    },
    {
      "cell_type": "code",
      "source": [
        "predsv2 = pd.read_csv('/content/drive/MyDrive/Project /preds.csv')\n",
        "predsv2.head()"
      ],
      "metadata": {
        "colab": {
          "base_uri": "https://localhost:8080/",
          "height": 206
        },
        "id": "kk3slh1lOCkR",
        "outputId": "3758f801-e0b6-41b2-bda4-60ae825384d9"
      },
      "id": "kk3slh1lOCkR",
      "execution_count": 40,
      "outputs": [
        {
          "output_type": "execute_result",
          "data": {
            "text/plain": [
              "           id  Model Predictions  Model Targets  Actual Targets  \\\n",
              "0  1fca0e9a1f           0.238293              0               0   \n",
              "1  1fca0fe3b6           0.358224              0               0   \n",
              "2  1fca129128           0.230218              0               1   \n",
              "3  1fca20e9d0           0.225951              0               0   \n",
              "4  1fca2327df           0.347042              0               0   \n",
              "\n",
              "   Classified Targets  \n",
              "0                   1  \n",
              "1                   1  \n",
              "2                   0  \n",
              "3                   1  \n",
              "4                   1  "
            ],
            "text/html": [
              "\n",
              "  <div id=\"df-1436105e-e20a-401f-968a-b670e3463d9f\">\n",
              "    <div class=\"colab-df-container\">\n",
              "      <div>\n",
              "<style scoped>\n",
              "    .dataframe tbody tr th:only-of-type {\n",
              "        vertical-align: middle;\n",
              "    }\n",
              "\n",
              "    .dataframe tbody tr th {\n",
              "        vertical-align: top;\n",
              "    }\n",
              "\n",
              "    .dataframe thead th {\n",
              "        text-align: right;\n",
              "    }\n",
              "</style>\n",
              "<table border=\"1\" class=\"dataframe\">\n",
              "  <thead>\n",
              "    <tr style=\"text-align: right;\">\n",
              "      <th></th>\n",
              "      <th>id</th>\n",
              "      <th>Model Predictions</th>\n",
              "      <th>Model Targets</th>\n",
              "      <th>Actual Targets</th>\n",
              "      <th>Classified Targets</th>\n",
              "    </tr>\n",
              "  </thead>\n",
              "  <tbody>\n",
              "    <tr>\n",
              "      <th>0</th>\n",
              "      <td>1fca0e9a1f</td>\n",
              "      <td>0.238293</td>\n",
              "      <td>0</td>\n",
              "      <td>0</td>\n",
              "      <td>1</td>\n",
              "    </tr>\n",
              "    <tr>\n",
              "      <th>1</th>\n",
              "      <td>1fca0fe3b6</td>\n",
              "      <td>0.358224</td>\n",
              "      <td>0</td>\n",
              "      <td>0</td>\n",
              "      <td>1</td>\n",
              "    </tr>\n",
              "    <tr>\n",
              "      <th>2</th>\n",
              "      <td>1fca129128</td>\n",
              "      <td>0.230218</td>\n",
              "      <td>0</td>\n",
              "      <td>1</td>\n",
              "      <td>0</td>\n",
              "    </tr>\n",
              "    <tr>\n",
              "      <th>3</th>\n",
              "      <td>1fca20e9d0</td>\n",
              "      <td>0.225951</td>\n",
              "      <td>0</td>\n",
              "      <td>0</td>\n",
              "      <td>1</td>\n",
              "    </tr>\n",
              "    <tr>\n",
              "      <th>4</th>\n",
              "      <td>1fca2327df</td>\n",
              "      <td>0.347042</td>\n",
              "      <td>0</td>\n",
              "      <td>0</td>\n",
              "      <td>1</td>\n",
              "    </tr>\n",
              "  </tbody>\n",
              "</table>\n",
              "</div>\n",
              "      <button class=\"colab-df-convert\" onclick=\"convertToInteractive('df-1436105e-e20a-401f-968a-b670e3463d9f')\"\n",
              "              title=\"Convert this dataframe to an interactive table.\"\n",
              "              style=\"display:none;\">\n",
              "        \n",
              "  <svg xmlns=\"http://www.w3.org/2000/svg\" height=\"24px\"viewBox=\"0 0 24 24\"\n",
              "       width=\"24px\">\n",
              "    <path d=\"M0 0h24v24H0V0z\" fill=\"none\"/>\n",
              "    <path d=\"M18.56 5.44l.94 2.06.94-2.06 2.06-.94-2.06-.94-.94-2.06-.94 2.06-2.06.94zm-11 1L8.5 8.5l.94-2.06 2.06-.94-2.06-.94L8.5 2.5l-.94 2.06-2.06.94zm10 10l.94 2.06.94-2.06 2.06-.94-2.06-.94-.94-2.06-.94 2.06-2.06.94z\"/><path d=\"M17.41 7.96l-1.37-1.37c-.4-.4-.92-.59-1.43-.59-.52 0-1.04.2-1.43.59L10.3 9.45l-7.72 7.72c-.78.78-.78 2.05 0 2.83L4 21.41c.39.39.9.59 1.41.59.51 0 1.02-.2 1.41-.59l7.78-7.78 2.81-2.81c.8-.78.8-2.07 0-2.86zM5.41 20L4 18.59l7.72-7.72 1.47 1.35L5.41 20z\"/>\n",
              "  </svg>\n",
              "      </button>\n",
              "      \n",
              "  <style>\n",
              "    .colab-df-container {\n",
              "      display:flex;\n",
              "      flex-wrap:wrap;\n",
              "      gap: 12px;\n",
              "    }\n",
              "\n",
              "    .colab-df-convert {\n",
              "      background-color: #E8F0FE;\n",
              "      border: none;\n",
              "      border-radius: 50%;\n",
              "      cursor: pointer;\n",
              "      display: none;\n",
              "      fill: #1967D2;\n",
              "      height: 32px;\n",
              "      padding: 0 0 0 0;\n",
              "      width: 32px;\n",
              "    }\n",
              "\n",
              "    .colab-df-convert:hover {\n",
              "      background-color: #E2EBFA;\n",
              "      box-shadow: 0px 1px 2px rgba(60, 64, 67, 0.3), 0px 1px 3px 1px rgba(60, 64, 67, 0.15);\n",
              "      fill: #174EA6;\n",
              "    }\n",
              "\n",
              "    [theme=dark] .colab-df-convert {\n",
              "      background-color: #3B4455;\n",
              "      fill: #D2E3FC;\n",
              "    }\n",
              "\n",
              "    [theme=dark] .colab-df-convert:hover {\n",
              "      background-color: #434B5C;\n",
              "      box-shadow: 0px 1px 3px 1px rgba(0, 0, 0, 0.15);\n",
              "      filter: drop-shadow(0px 1px 2px rgba(0, 0, 0, 0.3));\n",
              "      fill: #FFFFFF;\n",
              "    }\n",
              "  </style>\n",
              "\n",
              "      <script>\n",
              "        const buttonEl =\n",
              "          document.querySelector('#df-1436105e-e20a-401f-968a-b670e3463d9f button.colab-df-convert');\n",
              "        buttonEl.style.display =\n",
              "          google.colab.kernel.accessAllowed ? 'block' : 'none';\n",
              "\n",
              "        async function convertToInteractive(key) {\n",
              "          const element = document.querySelector('#df-1436105e-e20a-401f-968a-b670e3463d9f');\n",
              "          const dataTable =\n",
              "            await google.colab.kernel.invokeFunction('convertToInteractive',\n",
              "                                                     [key], {});\n",
              "          if (!dataTable) return;\n",
              "\n",
              "          const docLinkHtml = 'Like what you see? Visit the ' +\n",
              "            '<a target=\"_blank\" href=https://colab.research.google.com/notebooks/data_table.ipynb>data table notebook</a>'\n",
              "            + ' to learn more about interactive tables.';\n",
              "          element.innerHTML = '';\n",
              "          dataTable['output_type'] = 'display_data';\n",
              "          await google.colab.output.renderOutput(dataTable, element);\n",
              "          const docLink = document.createElement('div');\n",
              "          docLink.innerHTML = docLinkHtml;\n",
              "          element.appendChild(docLink);\n",
              "        }\n",
              "      </script>\n",
              "    </div>\n",
              "  </div>\n",
              "  "
            ]
          },
          "metadata": {},
          "execution_count": 40
        }
      ]
    },
    {
      "cell_type": "code",
      "source": [
        "mod_tar2 = list(predsv2.iloc[:,2])\n",
        "act_tar2 = list(predsv2.iloc[:,3])"
      ],
      "metadata": {
        "id": "NpKHdW-IUMS5"
      },
      "id": "NpKHdW-IUMS5",
      "execution_count": 41,
      "outputs": []
    },
    {
      "cell_type": "code",
      "execution_count": null,
      "id": "70d31821-d006-4342-acb1-c91062beb929",
      "metadata": {
        "id": "70d31821-d006-4342-acb1-c91062beb929"
      },
      "outputs": [],
      "source": [
        "num_ones = np.count_nonzero(target_frac)\n",
        "acc_score = (num_ones/len(target_frac))*100\n",
        "error_score = (100-acc_score)\n",
        "print('Classfied Correctly: ', acc_score, 'Classfied Incorrectly: ', error_score)\n"
      ]
    },
    {
      "cell_type": "code",
      "execution_count": 44,
      "id": "fc73d602-6432-4b6f-86a0-15500c2f303a",
      "metadata": {
        "id": "fc73d602-6432-4b6f-86a0-15500c2f303a",
        "colab": {
          "base_uri": "https://localhost:8080/"
        },
        "outputId": "54dff19a-f23d-49fd-9512-842bdce65473"
      },
      "outputs": [
        {
          "output_type": "stream",
          "name": "stdout",
          "text": [
            "True Positive(TP) =  23073\n",
            "False Positive(FP) =  3969\n",
            "True Negative(TN) =  31115\n",
            "False Negative(FN) =  11843\n",
            "Accuracy of the binary classification = 0.774\n"
          ]
        }
      ],
      "source": [
        "cm = confusion_matrix(act_tar2,mod_tar2) #Computes a confusion matrix \n",
        "\n",
        "TN, FP, FN, TP = confusion_matrix(act_tar2,mod_tar2).ravel()\n",
        "\n",
        "print('True Positive(TP) = ', TP)\n",
        "print('False Positive(FP) = ', FP)\n",
        "print('True Negative(TN) = ', TN)\n",
        "print('False Negative(FN) = ', FN)\n",
        "\n",
        "accuracy = (TP + TN)/(TP+FP+TN+FN)\n",
        "\n",
        "print('Accuracy of the binary classification = {:0.3f}'.format(accuracy))"
      ]
    },
    {
      "cell_type": "code",
      "source": [
        "group_names = ['True Neg','False Neg','False Pos','True Pos']\n",
        "\n",
        "group_counts = [\"{0:0.0f}\".format(value) for value in\n",
        "                cm.flatten()]\n",
        "\n",
        "group_percentages = [\"{0:.2%}\".format(value) for value in\n",
        "                     cm.flatten()/np.sum(cm)]\n",
        "\n",
        "labels = [f\"{v1}\\n{v2}\\n{v3}\" for v1, v2, v3 in\n",
        "          zip(group_names,group_counts,group_percentages)]\n",
        "\n",
        "labels = np.asarray(labels).reshape(2,2)\n",
        "\n",
        "ax = sns.heatmap(cm, annot=labels, fmt='', cmap='Reds')\n",
        "\n",
        "\n",
        "ax.set_xlabel('\\nPredicted Values')\n",
        "ax.set_ylabel('Actual Values ');\n",
        "\n",
        "## Ticket labels - List must be in alphabetical order\n",
        "ax.xaxis.set_ticklabels(['False','True'])\n",
        "ax.yaxis.set_ticklabels(['False','True'])\n",
        "\n",
        "## Display the visualization of the Confusion Matrix.\n",
        "#plt.show()\n",
        "cm_CNN_opt = plt.gcf()"
      ],
      "metadata": {
        "colab": {
          "base_uri": "https://localhost:8080/",
          "height": 291
        },
        "id": "As1I3vqIZ0hB",
        "outputId": "ca19fd04-bbb7-40ef-f05d-2d8a09333dd3"
      },
      "id": "As1I3vqIZ0hB",
      "execution_count": 45,
      "outputs": [
        {
          "output_type": "display_data",
          "data": {
            "text/plain": [
              "<Figure size 432x288 with 2 Axes>"
            ],
            "image/png": "[encoded data removed]"
          },
          "metadata": {
            "needs_background": "light"
          }
        }
      ]
    },
    {
      "cell_type": "code",
      "source": [
        "cm_CNN_opt.savefig(\"cm_CNN_opt.pdf\",format=\"pdf\", bbox_inches ='tight')"
      ],
      "metadata": {
        "id": "h9yAFfeBZ8G_"
      },
      "id": "h9yAFfeBZ8G_",
      "execution_count": 47,
      "outputs": []
    }
  ],
  "metadata": {
    "kernelspec": {
      "display_name": "igwn-py39",
      "language": "python",
      "name": "igwn-py39"
    },
    "language_info": {
      "codemirror_mode": {
        "name": "ipython",
        "version": 3
      },
      "file_extension": ".py",
      "mimetype": "text/x-python",
      "name": "python",
      "nbconvert_exporter": "python",
      "pygments_lexer": "ipython3",
      "version": "3.9.10"
    },
    "colab": {
      "name": "CNN v2.ipynb",
      "provenance": [],
      "include_colab_link": true
    },
    "accelerator": "GPU"
  },
  "nbformat": 4,
  "nbformat_minor": 5
}