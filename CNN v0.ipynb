{
 "cells": [
  {
   "cell_type": "code",
   "execution_count": 1,
   "id": "b7255370-36f9-434a-a01f-78d2298cc235",
   "metadata": {},
   "outputs": [
    {
     "name": "stdout",
     "output_type": "stream",
     "text": [
      "template_bank  test  train  training_labels.csv\n"
     ]
    }
   ],
   "source": [
    "! ls /home/ian.harry/tmp_abi"
   ]
  },
  {
   "cell_type": "code",
   "execution_count": 2,
   "id": "28f65790-e436-42ab-b892-e3efa74eed17",
   "metadata": {},
   "outputs": [
    {
     "name": "stderr",
     "output_type": "stream",
     "text": [
      "2022-05-23 04:37:36.828602: W tensorflow/stream_executor/platform/default/dso_loader.cc:64] Could not load dynamic library 'libcudart.so.11.0'; dlerror: libcudart.so.11.0: cannot open shared object file: No such file or directory\n",
      "2022-05-23 04:37:36.828652: I tensorflow/stream_executor/cuda/cudart_stub.cc:29] Ignore above cudart dlerror if you do not have a GPU set up on your machine.\n",
      "/home/abi.abraham/.local/lib/python3.9/site-packages/nnAudio/Spectrogram.py:4: Warning: importing Spectrogram subpackage will be deprecated soon. You should import the feature extractor from the feature subpackage. See actual documentation.\n",
      "  warnings.warn(\n"
     ]
    }
   ],
   "source": [
    "#Import packages\n",
    "\n",
    "import numpy as np\n",
    "import pandas as pd\n",
    "import matplotlib.pyplot as plt\n",
    "import math\n",
    "import seaborn as sns\n",
    "from scipy.stats import sem\n",
    "\n",
    "#Machine learning tool\n",
    "\n",
    "import keras\n",
    "import tensorflow \n",
    "from keras.models import Sequential\n",
    "from tensorflow.keras.utils import Sequence\n",
    "from tensorflow.keras.optimizers import Adam, SGD\n",
    "from tensorflow.keras import models, layers\n",
    "from tensorflow.keras.layers import Dense, Dropout, Activation, Input, GlobalAveragePooling2D, Convolution2D, GlobalMaxPooling2D\n",
    "from tensorflow.keras.preprocessing import image\n",
    "\n",
    "from random import shuffle\n",
    "\n",
    "from sklearn.model_selection import train_test_split\n",
    "from sklearn.metrics import roc_auc_score, roc_curve, auc, confusion_matrix\n",
    "\n",
    "import torch\n",
    "from nnAudio.Spectrogram import CQT1992v2\n",
    "import efficientnet.tfkeras as efn"
   ]
  },
  {
   "cell_type": "code",
   "execution_count": 3,
   "id": "c3c129ed-cd2a-469f-aec8-b3e3af1ad9a3",
   "metadata": {},
   "outputs": [],
   "source": [
    "# I am using concepts and certain codes used by Mrigendra Agrwal from Kaggle.\n",
    "#Reference https://www.kaggle.com/code/mrigendraagrawal/tf-g2net-eda-and-starter"
   ]
  },
  {
   "cell_type": "code",
   "execution_count": 4,
   "id": "95a3bb64-2506-4149-8662-78fe85e8d98c",
   "metadata": {},
   "outputs": [],
   "source": [
    "#Read in the training labels csv and assign paths\n",
    "training_labels = pd.read_csv(\"/home/ian.harry/tmp_abi/training_labels.csv\")\n",
    "\n",
    "path = list(training_labels['id'])\n",
    "for i in range(len(path)):\n",
    "    path[i] = '/home/ian.harry/tmp_abi/train/' + path[i][0] +  '/' + path[i][1] +  '/' + path[i][2] +  '/' + path[i] + '.npy'\n",
    "    \n",
    "\n"
   ]
  },
  {
   "cell_type": "code",
   "execution_count": 5,
   "id": "cb77df5f-496b-4864-8b6d-6030ef7ef759",
   "metadata": {},
   "outputs": [],
   "source": [
    "#Function to set a path to call in the data\n",
    "def path2id(idx,is_train = True):\n",
    "    path = '/home/ian.harry/tmp_abi'\n",
    "    if is_train:\n",
    "        path += '/train/' + idx[0] + '/' + idx[1] + '/' + idx[2] + '/' + idx + '.npy'\n",
    "    else:\n",
    "        path += '/train/' + idx[0] + '/' + idx[1] + '/' + idx[2] + '/' + idx + '.npy'\n",
    "    return path"
   ]
  },
  {
   "cell_type": "code",
   "execution_count": 6,
   "id": "a9d7668b-df0e-4c41-b6ce-cadc18770ef7",
   "metadata": {},
   "outputs": [
    {
     "name": "stdout",
     "output_type": "stream",
     "text": [
      "CQT kernels created, time used = 0.0348 seconds\n"
     ]
    },
    {
     "name": "stderr",
     "output_type": "stream",
     "text": [
      "/home/abi.abraham/.local/lib/python3.9/site-packages/nnAudio/utils.py:429: SyntaxWarning: If fmax is given, n_bins will be ignored\n",
      "  warnings.warn(\"If fmax is given, n_bins will be ignored\", SyntaxWarning)\n"
     ]
    }
   ],
   "source": [
    "#function to plot time series of each detector and for a q-scan.\n",
    "def increase_dimension(idx,is_train,transform=CQT1992v2(sr=2048, fmin=20, fmax=1024, hop_length=64)): \n",
    "    \n",
    "    waves = np.load(path2id(idx,is_train)) #loads the data \n",
    "    waves = np.hstack(waves)\n",
    "    waves = waves / np.max(waves)\n",
    "    waves = torch.from_numpy(waves).float()\n",
    "    image = transform(waves) # converts into an image\n",
    "    image = np.array(image)\n",
    "    image = np.transpose(image,(1,2,0))\n",
    "    return image"
   ]
  },
  {
   "cell_type": "code",
   "execution_count": 9,
   "id": "5add1afd-abff-44d6-b9b2-578b38f657c5",
   "metadata": {},
   "outputs": [],
   "source": [
    "ex_ts.savefig(\"ex_ts.pdf\",format=\"pdf\", bbox_inches =\"tight\")"
   ]
  },
  {
   "cell_type": "code",
   "execution_count": 10,
   "id": "f640ede6-0d14-4d3d-b3a1-488ea6ba4023",
   "metadata": {},
   "outputs": [],
   "source": [
    "#Dataset Generator \n",
    "class Dataset(Sequence):\n",
    "    \n",
    "    def __init__(self,idx,y=None,batch_size=32, shuffle= True):\n",
    "        self.idx = idx\n",
    "        self.batch_size = batch_size\n",
    "        self.shuffle = shuffle\n",
    "        \n",
    "        if y is not None:\n",
    "            self.is_train=True\n",
    "        else:\n",
    "            self.is_train=False\n",
    "        self.y = y\n",
    "        \n",
    "    def __len__(self):\n",
    "        return math.ceil(len(self.idx)/self.batch_size)\n",
    "    \n",
    "    def __getitem__(self,ids):\n",
    "        batch_ids = self.idx[ids * self.batch_size:(ids + 1) * self.batch_size]\n",
    "        \n",
    "        if self.y is not None:\n",
    "            batch_y = self.y[ids * self.batch_size: (ids + 1) * self.batch_size]\n",
    "            \n",
    "        list_x = np.array([increase_dimension(x,self.is_train) for x in batch_ids])\n",
    "        batch_X = np.stack(list_x)\n",
    "        \n",
    "        if self.is_train:\n",
    "            return batch_X, batch_y\n",
    "        else:\n",
    "            return batch_X\n",
    "    \n",
    "    def on_epoch_end(self):\n",
    "        if self.shuffle and self.is_train:\n",
    "            ids_y = list(zip(self.idx, self.y))\n",
    "            shuffle(ids_y)\n",
    "            self.idx, self.y = list(zip(*ids_y))\n",
    "    \n",
    "    def debug(self):\n",
    "        return self.idx"
   ]
  },
  {
   "cell_type": "code",
   "execution_count": 11,
   "id": "e98e0ed5-f69c-488a-8ecf-76777defc83b",
   "metadata": {},
   "outputs": [],
   "source": [
    "#Reducing the size of dataset \n",
    "train_data_size = len(training_labels['id'].values)//100 #reducing the data size to 5600 \n",
    "train_idx = training_labels['id'].values[0:train_data_size]\n",
    "valid_idx = training_labels['target'].values[0:train_data_size]\n",
    "test_idx =  training_labels['id'].values[5600:11200]"
   ]
  },
  {
   "cell_type": "code",
   "execution_count": 12,
   "id": "67ba5888-229c-4c8c-b3b0-6cc04aff609c",
   "metadata": {},
   "outputs": [
    {
     "name": "stdout",
     "output_type": "stream",
     "text": [
      "5600\n",
      "5600\n"
     ]
    }
   ],
   "source": [
    "print(len(train_idx))\n",
    "print(len(test_idx))"
   ]
  },
  {
   "cell_type": "code",
   "execution_count": 13,
   "id": "d3925227-5da9-4903-93f1-5846340a51fc",
   "metadata": {},
   "outputs": [],
   "source": [
    "#Spliting the dataset in to train and test sets\n",
    "x_train, x_test, y_train, y_test = train_test_split(train_idx,valid_idx,test_size=0.20, random_state=None, stratify=valid_idx)"
   ]
  },
  {
   "cell_type": "code",
   "execution_count": 14,
   "id": "93add574-88fb-42f3-af42-9ace74e38b56",
   "metadata": {},
   "outputs": [
    {
     "data": {
      "text/plain": [
       "4480"
      ]
     },
     "execution_count": 14,
     "metadata": {},
     "output_type": "execute_result"
    }
   ],
   "source": [
    "#Applying the dataset generator to train, test and validation sets\n",
    "train_dataset = Dataset(x_train,y_train)\n",
    "valid_dataset = Dataset(x_test, y_test)\n",
    "test_dataset  = Dataset(test_idx)\n",
    "len(y_train)"
   ]
  },
  {
   "cell_type": "code",
   "execution_count": 15,
   "id": "91d22e60-37a5-4ed5-9238-81eacf11e214",
   "metadata": {},
   "outputs": [
    {
     "name": "stderr",
     "output_type": "stream",
     "text": [
      "2022-05-23 04:37:45.846004: W tensorflow/stream_executor/platform/default/dso_loader.cc:64] Could not load dynamic library 'libcuda.so.1'; dlerror: libcuda.so.1: cannot open shared object file: No such file or directory\n",
      "2022-05-23 04:37:45.846059: W tensorflow/stream_executor/cuda/cuda_driver.cc:269] failed call to cuInit: UNKNOWN ERROR (303)\n",
      "2022-05-23 04:37:45.846100: I tensorflow/stream_executor/cuda/cuda_diagnostics.cc:156] kernel driver does not appear to be running on this host (ldas-pcdev14): /proc/driver/nvidia/version does not exist\n",
      "2022-05-23 04:37:45.846426: I tensorflow/core/platform/cpu_feature_guard.cc:151] This TensorFlow binary is optimized with oneAPI Deep Neural Network Library (oneDNN) to use the following CPU instructions in performance-critical operations:  FMA\n",
      "To enable them in other operations, rebuild TensorFlow with the appropriate compiler flags.\n"
     ]
    },
    {
     "name": "stdout",
     "output_type": "stream",
     "text": [
      "Model: \"sequential\"\n",
      "_________________________________________________________________\n",
      " Layer (type)                Output Shape              Param #   \n",
      "=================================================================\n",
      " conv2d (Conv2D)             (None, 63, 193, 3)        30        \n",
      "                                                                 \n",
      " efficientnet-b0 (Functional  (None, None, None, 1280)  4049564  \n",
      " )                                                               \n",
      "                                                                 \n",
      " global_average_pooling2d (G  (None, 1280)             0         \n",
      " lobalAveragePooling2D)                                          \n",
      "                                                                 \n",
      " dense (Dense)               (None, 32)                40992     \n",
      "                                                                 \n",
      " dense_1 (Dense)             (None, 1)                 33        \n",
      "                                                                 \n",
      "=================================================================\n",
      "Total params: 4,090,619\n",
      "Trainable params: 4,048,603\n",
      "Non-trainable params: 42,016\n",
      "_________________________________________________________________\n"
     ]
    }
   ],
   "source": [
    "#Building the CNN model\n",
    "#input shape decided from examples and trial and error. \n",
    "model = Sequential([keras.layers.InputLayer(input_shape=(63,193,1)), Convolution2D(3,3,activation='relu',padding='same'), \n",
    "                   efn.EfficientNetB0(include_top=False,input_shape=(),weights='imagenet'), \n",
    "                   GlobalAveragePooling2D(),\n",
    "                   Dense(32,activation='relu'), \n",
    "                   Dense(1,activation='sigmoid')])\n",
    "\n",
    "model.summary()\n",
    "model.compile(optimizer= Adam(learning_rate=0.001),loss='binary_crossentropy', metrics=[\"accuracy\"]) # loss is binary_crossentropy, this is for binary classification. "
   ]
  },
  {
   "cell_type": "code",
   "execution_count": 16,
   "id": "d09d8fdc-beb8-41e4-8be2-68c17dbf5652",
   "metadata": {},
   "outputs": [
    {
     "name": "stderr",
     "output_type": "stream",
     "text": [
      "[W NNPACK.cpp:51] Could not initialize NNPACK! Reason: Unsupported hardware.\n"
     ]
    },
    {
     "name": "stdout",
     "output_type": "stream",
     "text": [
      "Epoch 1/5\n",
      "140/140 [==============================] - 292s 2s/step - loss: 0.7011 - accuracy: 0.5121 - val_loss: 0.7090 - val_accuracy: 0.5000\n",
      "Epoch 2/5\n",
      "140/140 [==============================] - 290s 2s/step - loss: 0.6259 - accuracy: 0.6359 - val_loss: 0.6971 - val_accuracy: 0.4991\n",
      "Epoch 3/5\n",
      "140/140 [==============================] - 282s 2s/step - loss: 0.5250 - accuracy: 0.7326 - val_loss: 0.7379 - val_accuracy: 0.5000\n",
      "Epoch 4/5\n",
      "140/140 [==============================] - 287s 2s/step - loss: 0.4833 - accuracy: 0.7614 - val_loss: 0.7018 - val_accuracy: 0.5080\n",
      "Epoch 5/5\n",
      "140/140 [==============================] - 295s 2s/step - loss: 0.4319 - accuracy: 0.8016 - val_loss: 0.6077 - val_accuracy: 0.6313\n"
     ]
    },
    {
     "data": {
      "text/plain": [
       "<keras.callbacks.History at 0x7f64b0444a90>"
      ]
     },
     "execution_count": 16,
     "metadata": {},
     "output_type": "execute_result"
    }
   ],
   "source": [
    "#Training the model\n",
    "model.fit(train_dataset, validation_data=valid_dataset, use_multiprocessing=True,\n",
    "          epochs = 5)"
   ]
  },
  {
   "cell_type": "code",
   "execution_count": 17,
   "id": "a12e7537-1863-439d-aa96-4db08f2985a2",
   "metadata": {},
   "outputs": [
    {
     "name": "stderr",
     "output_type": "stream",
     "text": [
      "2022-05-23 05:02:14.962589: W tensorflow/python/util/util.cc:368] Sets are not currently considered sequences, but this may change in the future, so consider avoiding using them.\n"
     ]
    },
    {
     "name": "stdout",
     "output_type": "stream",
     "text": [
      "INFO:tensorflow:Assets written to: Project/Model/assets\n"
     ]
    }
   ],
   "source": [
    "model.save('Project/Model')"
   ]
  },
  {
   "cell_type": "code",
   "execution_count": 18,
   "id": "f3264828-8ac1-48a0-9a2e-4e05be1a44f0",
   "metadata": {},
   "outputs": [],
   "source": [
    "loaded_model = keras.models.load_model('Project/Model')"
   ]
  },
  {
   "cell_type": "code",
   "execution_count": 19,
   "id": "0974aec6-9275-47e7-a239-f87f39102b40",
   "metadata": {},
   "outputs": [],
   "source": [
    "df = pd.DataFrame(list()) \n",
    "df.to_csv('predsv0.csv')\n",
    "predsv0 = pd.read_csv('predsv0.csv')"
   ]
  },
  {
   "cell_type": "code",
   "execution_count": 20,
   "id": "c4b61b05-c88a-4aad-bf8c-65a670b4e105",
   "metadata": {},
   "outputs": [
    {
     "name": "stdout",
     "output_type": "stream",
     "text": [
      "175/175 [==============================] - 177s 997ms/step\n"
     ]
    }
   ],
   "source": [
    "#Model prediciting the using the test sets\n",
    "model_pred = loaded_model.predict(test_dataset, use_multiprocessing=True,verbose=1)\n",
    "model_pred = model_pred.reshape(-1)"
   ]
  },
  {
   "cell_type": "code",
   "execution_count": 26,
   "id": "7798000b-a7f0-4276-8b5f-b036c2c94bd0",
   "metadata": {},
   "outputs": [
    {
     "name": "stdout",
     "output_type": "stream",
     "text": [
      "560000\n",
      "5600\n",
      "5600\n"
     ]
    }
   ],
   "source": [
    "print(len(training_labels))\n",
    "print(len(train_idx))\n",
    "print(len(model_pred))"
   ]
  },
  {
   "cell_type": "code",
   "execution_count": 27,
   "id": "e16e4c97-e660-41f0-ba38-4371216c4c5a",
   "metadata": {},
   "outputs": [
    {
     "name": "stdout",
     "output_type": "stream",
     "text": [
      "5600\n"
     ]
    }
   ],
   "source": [
    "train_data_size2 = len(y_train)\n",
    "test_idx2 = training_labels['id'].values[5600:11200]\n",
    "\n",
    "targets_s = training_labels['target']\n",
    "tar_len = (len(targets_s)//100) \n",
    "targets = training_labels['target'].values[5600:11200]\n",
    "print(len(targets))"
   ]
  },
  {
   "cell_type": "code",
   "execution_count": 28,
   "id": "0717f961-c3b2-4f9a-abf5-48d46163edf5",
   "metadata": {},
   "outputs": [
    {
     "name": "stdout",
     "output_type": "stream",
     "text": [
      "[0.99900734 0.3774139  0.42695367 ... 0.550153   0.45388472 0.31550458]\n",
      "5600\n"
     ]
    }
   ],
   "source": [
    "print(model_pred)\n",
    "print(len(model_pred))"
   ]
  },
  {
   "cell_type": "code",
   "execution_count": 40,
   "id": "42811eaa-1022-40bb-9aa7-e79376f3995e",
   "metadata": {},
   "outputs": [
    {
     "name": "stdout",
     "output_type": "stream",
     "text": [
      "[1 1 1 ... 1 1 1]\n",
      "5600\n"
     ]
    }
   ],
   "source": [
    "model_target = np.array(model_pred)\n",
    "model_target[:,] = model_target[:,]>0.31 # setting threshold to create a binary classification\n",
    "model_targets = model_target.astype(int)\n",
    "print(model_targets)\n",
    "print(len(targets)) \n",
    "    "
   ]
  },
  {
   "cell_type": "code",
   "execution_count": 41,
   "id": "9ab08607-ac16-4258-aa24-d4e581cc001e",
   "metadata": {},
   "outputs": [
    {
     "name": "stdout",
     "output_type": "stream",
     "text": [
      "0.6439285714285714 0.5171517151715171\n"
     ]
    }
   ],
   "source": [
    "#To find the best threshold\n",
    "threshs = np.linspace(0,1,10000)\n",
    "\n",
    "max_icv = 0\n",
    "\n",
    "for th in threshs:\n",
    "\n",
    "    icv = predsv0['Model Predictions'] > th\n",
    "    curr_th = sum(icv == predsv0['Actual Targets']) / len(predsv0)\n",
    "    if curr_th > max_icv:\n",
    "        max_icv = curr_th\n",
    "        max_th = th\n",
    "print(max_icv, max_th)"
   ]
  },
  {
   "cell_type": "code",
   "execution_count": 42,
   "id": "8a649333-b978-45e7-86e6-a7456c30d586",
   "metadata": {},
   "outputs": [],
   "source": [
    "#Converting the model predicition to 1 and 0s considering the threshold\n",
    "target_frac = []\n",
    "mod_tar = list(model_targets)\n",
    "act_tar = list(targets)\n",
    "\n",
    "for i in range(len(mod_tar)):\n",
    "    if mod_tar[i] == act_tar[i]:\n",
    "        target_frac.append(1)\n",
    "    else: \n",
    "        target_frac.append(0)"
   ]
  },
  {
   "cell_type": "code",
   "execution_count": 43,
   "id": "003b0f53-aa7c-4d5a-9e57-3ae0a96cbded",
   "metadata": {},
   "outputs": [],
   "source": [
    "predsv0 = pd.DataFrame({'id':test_idx2,'Model Predictions':model_pred, \n",
    "                      'Model Targets':model_targets,\n",
    "                      'Actual Targets' : targets,\n",
    "                      'Classified Targets': target_frac})\n",
    "\n",
    "predsv0.to_csv('predsv0.csv',index = False)"
   ]
  },
  {
   "cell_type": "code",
   "execution_count": 44,
   "id": "3c4c1ae3-c7c8-458a-80c2-b32c94be3be2",
   "metadata": {},
   "outputs": [
    {
     "data": {
      "text/html": [
       "<div>\n",
       "<style scoped>\n",
       "    .dataframe tbody tr th:only-of-type {\n",
       "        vertical-align: middle;\n",
       "    }\n",
       "\n",
       "    .dataframe tbody tr th {\n",
       "        vertical-align: top;\n",
       "    }\n",
       "\n",
       "    .dataframe thead th {\n",
       "        text-align: right;\n",
       "    }\n",
       "</style>\n",
       "<table border=\"1\" class=\"dataframe\">\n",
       "  <thead>\n",
       "    <tr style=\"text-align: right;\">\n",
       "      <th></th>\n",
       "      <th>id</th>\n",
       "      <th>Model Predictions</th>\n",
       "      <th>Model Targets</th>\n",
       "      <th>Actual Targets</th>\n",
       "      <th>Classified Targets</th>\n",
       "    </tr>\n",
       "  </thead>\n",
       "  <tbody>\n",
       "    <tr>\n",
       "      <th>0</th>\n",
       "      <td>027cec30f9</td>\n",
       "      <td>0.999007</td>\n",
       "      <td>1</td>\n",
       "      <td>1</td>\n",
       "      <td>1</td>\n",
       "    </tr>\n",
       "    <tr>\n",
       "      <th>1</th>\n",
       "      <td>027cf728b9</td>\n",
       "      <td>0.377414</td>\n",
       "      <td>1</td>\n",
       "      <td>1</td>\n",
       "      <td>1</td>\n",
       "    </tr>\n",
       "    <tr>\n",
       "      <th>2</th>\n",
       "      <td>027d229a6f</td>\n",
       "      <td>0.426954</td>\n",
       "      <td>1</td>\n",
       "      <td>1</td>\n",
       "      <td>1</td>\n",
       "    </tr>\n",
       "    <tr>\n",
       "      <th>3</th>\n",
       "      <td>027d4b8485</td>\n",
       "      <td>0.402138</td>\n",
       "      <td>1</td>\n",
       "      <td>1</td>\n",
       "      <td>1</td>\n",
       "    </tr>\n",
       "    <tr>\n",
       "      <th>4</th>\n",
       "      <td>027d757b08</td>\n",
       "      <td>0.515242</td>\n",
       "      <td>1</td>\n",
       "      <td>0</td>\n",
       "      <td>0</td>\n",
       "    </tr>\n",
       "    <tr>\n",
       "      <th>5</th>\n",
       "      <td>027d8c4c41</td>\n",
       "      <td>0.699068</td>\n",
       "      <td>1</td>\n",
       "      <td>1</td>\n",
       "      <td>1</td>\n",
       "    </tr>\n",
       "    <tr>\n",
       "      <th>6</th>\n",
       "      <td>027d8e0d1c</td>\n",
       "      <td>0.958617</td>\n",
       "      <td>1</td>\n",
       "      <td>1</td>\n",
       "      <td>1</td>\n",
       "    </tr>\n",
       "    <tr>\n",
       "      <th>7</th>\n",
       "      <td>027d931ac5</td>\n",
       "      <td>0.415407</td>\n",
       "      <td>1</td>\n",
       "      <td>0</td>\n",
       "      <td>0</td>\n",
       "    </tr>\n",
       "    <tr>\n",
       "      <th>8</th>\n",
       "      <td>027dd705d4</td>\n",
       "      <td>0.461839</td>\n",
       "      <td>1</td>\n",
       "      <td>1</td>\n",
       "      <td>1</td>\n",
       "    </tr>\n",
       "    <tr>\n",
       "      <th>9</th>\n",
       "      <td>027ddd3377</td>\n",
       "      <td>0.386381</td>\n",
       "      <td>1</td>\n",
       "      <td>1</td>\n",
       "      <td>1</td>\n",
       "    </tr>\n",
       "  </tbody>\n",
       "</table>\n",
       "</div>"
      ],
      "text/plain": [
       "           id  Model Predictions  Model Targets  Actual Targets  \\\n",
       "0  027cec30f9           0.999007              1               1   \n",
       "1  027cf728b9           0.377414              1               1   \n",
       "2  027d229a6f           0.426954              1               1   \n",
       "3  027d4b8485           0.402138              1               1   \n",
       "4  027d757b08           0.515242              1               0   \n",
       "5  027d8c4c41           0.699068              1               1   \n",
       "6  027d8e0d1c           0.958617              1               1   \n",
       "7  027d931ac5           0.415407              1               0   \n",
       "8  027dd705d4           0.461839              1               1   \n",
       "9  027ddd3377           0.386381              1               1   \n",
       "\n",
       "   Classified Targets  \n",
       "0                   1  \n",
       "1                   1  \n",
       "2                   1  \n",
       "3                   1  \n",
       "4                   0  \n",
       "5                   1  \n",
       "6                   1  \n",
       "7                   0  \n",
       "8                   1  \n",
       "9                   1  "
      ]
     },
     "execution_count": 44,
     "metadata": {},
     "output_type": "execute_result"
    }
   ],
   "source": [
    "predsv0.head(10)"
   ]
  },
  {
   "cell_type": "code",
   "execution_count": 45,
   "id": "70d31821-d006-4342-acb1-c91062beb929",
   "metadata": {},
   "outputs": [
    {
     "name": "stdout",
     "output_type": "stream",
     "text": [
      "Classfied Correctly:  49.23214285714286 Classfied Incorrectly:  50.76785714285714\n"
     ]
    }
   ],
   "source": [
    "num_ones = np.count_nonzero(target_frac)\n",
    "acc_score = (num_ones/len(target_frac))*100\n",
    "error_score = (100-acc_score)\n",
    "print('Classfied Correctly: ', acc_score, 'Classfied Incorrectly: ', error_score)\n"
   ]
  },
  {
   "cell_type": "code",
   "execution_count": 47,
   "id": "a37fb400-65b0-4e44-804b-505301d70de8",
   "metadata": {},
   "outputs": [
    {
     "data": {
      "image/png": "[encoded data removed]",
      "text/plain": [
       "<Figure size 432x288 with 2 Axes>"
      ]
     },
     "metadata": {
      "needs_background": "light"
     },
     "output_type": "display_data"
    }
   ],
   "source": [
    "cm = confusion_matrix(act_tar,mod_tar) #Computes a confusion matrix \n",
    "group_names = ['True Neg','False Neg','False Pos','True Pos']\n",
    "\n",
    "group_counts = [\"{0:0.0f}\".format(value) for value in\n",
    "                cm.flatten()]\n",
    "\n",
    "group_percentages = [\"{0:.2%}\".format(value) for value in\n",
    "                     cm.flatten()/np.sum(cm)]\n",
    "\n",
    "labels = [f\"{v1}\\n{v2}\\n{v3}\" for v1, v2, v3 in\n",
    "          zip(group_names,group_counts,group_percentages)]\n",
    "\n",
    "labels = np.asarray(labels).reshape(2,2)\n",
    "\n",
    "ax = sns.heatmap(cm, annot=labels, fmt='', cmap='Reds')\n",
    "\n",
    "\n",
    "ax.set_xlabel('\\nPredicted Values')\n",
    "ax.set_ylabel('Actual Values ');\n",
    "\n",
    "## Ticket labels - List must be in alphabetical order\n",
    "ax.xaxis.set_ticklabels(['False','True'])\n",
    "ax.yaxis.set_ticklabels(['False','True'])\n",
    "\n",
    "## Display the visualization of the Confusion Matrix.\n",
    "cm_CNNv0 = plt.gcf()"
   ]
  },
  {
   "cell_type": "code",
   "execution_count": 48,
   "id": "066e1dc5-a6e8-45ab-a284-5fd131ed193d",
   "metadata": {},
   "outputs": [],
   "source": [
    "cm_CNNv0.savefig('cm_CNNv0.pdf',format='pdf',bbox_inches='tight')"
   ]
  },
  {
   "cell_type": "code",
   "execution_count": null,
   "id": "feb8137c-228e-4598-8a44-fcbce99ecd67",
   "metadata": {},
   "outputs": [],
   "source": []
  }
 ],
 "metadata": {
  "kernelspec": {
   "display_name": "igwn-py39",
   "language": "python",
   "name": "igwn-py39"
  },
  "language_info": {
   "codemirror_mode": {
    "name": "ipython",
    "version": 3
   },
   "file_extension": ".py",
   "mimetype": "text/x-python",
   "name": "python",
   "nbconvert_exporter": "python",
   "pygments_lexer": "ipython3",
   "version": "3.9.10"
  }
 },
 "nbformat": 4,
 "nbformat_minor": 5
}
